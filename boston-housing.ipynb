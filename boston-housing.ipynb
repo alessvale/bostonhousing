{
 "cells": [
  {
   "cell_type": "markdown",
   "metadata": {
    "papermill": {
     "duration": 0.035992,
     "end_time": "2020-10-19T13:12:42.809011",
     "exception": false,
     "start_time": "2020-10-19T13:12:42.773019",
     "status": "completed"
    },
    "tags": []
   },
   "source": [
    "<center><title> Boston House Dataset study</title></center>"
   ]
  },
  {
   "cell_type": "markdown",
   "metadata": {
    "papermill": {
     "duration": 0.034522,
     "end_time": "2020-10-19T13:12:42.879476",
     "exception": false,
     "start_time": "2020-10-19T13:12:42.844954",
     "status": "completed"
    },
    "tags": []
   },
   "source": [
    "<center><h1>Boston House Price Dataset</h1></center>"
   ]
  },
  {
   "cell_type": "markdown",
   "metadata": {
    "papermill": {
     "duration": 0.034958,
     "end_time": "2020-10-19T13:12:42.949086",
     "exception": false,
     "start_time": "2020-10-19T13:12:42.914128",
     "status": "completed"
    },
    "tags": []
   },
   "source": [
    "<p>The aim is to study different linear models for the Boston House Pricing dataset, and compare them with nonparametric models like KNN and Random Forest regressors.</p>"
   ]
  },
  {
   "cell_type": "code",
   "execution_count": 1,
   "metadata": {
    "execution": {
     "iopub.execute_input": "2020-10-19T13:12:43.026620Z",
     "iopub.status.busy": "2020-10-19T13:12:43.025881Z",
     "iopub.status.idle": "2020-10-19T13:12:45.241527Z",
     "shell.execute_reply": "2020-10-19T13:12:45.240806Z"
    },
    "papermill": {
     "duration": 2.257623,
     "end_time": "2020-10-19T13:12:45.241665",
     "exception": false,
     "start_time": "2020-10-19T13:12:42.984042",
     "status": "completed"
    },
    "tags": []
   },
   "outputs": [],
   "source": [
    "import numpy as np\n",
    "import pandas as pd\n",
    "\n",
    "import matplotlib.pyplot as plt\n",
    "import seaborn as sns\n",
    "\n",
    "import statsmodels.api as sm\n",
    "\n",
    "from sklearn.linear_model import LinearRegression\n",
    "from sklearn.neighbors import KNeighborsRegressor\n",
    "from sklearn.ensemble import RandomForestRegressor\n",
    "from sklearn.model_selection import train_test_split, cross_validate, KFold\n",
    "from sklearn.compose import TransformedTargetRegressor\n",
    "from sklearn.model_selection import learning_curve\n",
    "\n",
    "\n",
    "from sklearn.metrics import mean_squared_error\n",
    "from sklearn.metrics import r2_score\n",
    "from sklearn.metrics import mean_absolute_error\n",
    "from sklearn.preprocessing import StandardScaler, PolynomialFeatures\n",
    "from sklearn.pipeline import Pipeline"
   ]
  },
  {
   "cell_type": "markdown",
   "metadata": {
    "papermill": {
     "duration": 0.034849,
     "end_time": "2020-10-19T13:12:45.399400",
     "exception": false,
     "start_time": "2020-10-19T13:12:45.364551",
     "status": "completed"
    },
    "tags": []
   },
   "source": [
    "<h2><b>1. The Dataset</b></h2>"
   ]
  },
  {
   "cell_type": "markdown",
   "metadata": {
    "papermill": {
     "duration": 0.035201,
     "end_time": "2020-10-19T13:12:45.469499",
     "exception": false,
     "start_time": "2020-10-19T13:12:45.434298",
     "status": "completed"
    },
    "tags": []
   },
   "source": [
    "<p>We first load the dataset and inspect various basic properties</p>"
   ]
  },
  {
   "cell_type": "code",
   "execution_count": 2,
   "metadata": {
    "execution": {
     "iopub.execute_input": "2020-10-19T13:12:45.546791Z",
     "iopub.status.busy": "2020-10-19T13:12:45.546057Z",
     "iopub.status.idle": "2020-10-19T13:12:45.556313Z",
     "shell.execute_reply": "2020-10-19T13:12:45.555725Z"
    },
    "papermill": {
     "duration": 0.051103,
     "end_time": "2020-10-19T13:12:45.556466",
     "exception": false,
     "start_time": "2020-10-19T13:12:45.505363",
     "status": "completed"
    },
    "tags": []
   },
   "outputs": [],
   "source": [
    "##Load the dataset\n",
    "data = pd.read_csv(\"housing.csv\")"
   ]
  },
  {
   "cell_type": "code",
   "execution_count": 3,
   "metadata": {
    "execution": {
     "iopub.execute_input": "2020-10-19T13:12:45.640269Z",
     "iopub.status.busy": "2020-10-19T13:12:45.639298Z",
     "iopub.status.idle": "2020-10-19T13:12:45.643496Z",
     "shell.execute_reply": "2020-10-19T13:12:45.642629Z"
    },
    "papermill": {
     "duration": 0.051595,
     "end_time": "2020-10-19T13:12:45.643645",
     "exception": false,
     "start_time": "2020-10-19T13:12:45.592050",
     "status": "completed"
    },
    "tags": []
   },
   "outputs": [],
   "source": [
    "##Drop the first column\n",
    "data = data.drop(\"Unnamed: 0\", axis = 1)"
   ]
  },
  {
   "cell_type": "code",
   "execution_count": 4,
   "metadata": {
    "execution": {
     "iopub.execute_input": "2020-10-19T13:12:45.738076Z",
     "iopub.status.busy": "2020-10-19T13:12:45.737237Z",
     "iopub.status.idle": "2020-10-19T13:12:45.740397Z",
     "shell.execute_reply": "2020-10-19T13:12:45.740876Z"
    },
    "papermill": {
     "duration": 0.054043,
     "end_time": "2020-10-19T13:12:45.741015",
     "exception": false,
     "start_time": "2020-10-19T13:12:45.686972",
     "status": "completed"
    },
    "tags": []
   },
   "outputs": [
    {
     "name": "stdout",
     "output_type": "stream",
     "text": [
      "<class 'pandas.core.frame.DataFrame'>\n",
      "RangeIndex: 506 entries, 0 to 505\n",
      "Data columns (total 14 columns):\n",
      " #   Column   Non-Null Count  Dtype  \n",
      "---  ------   --------------  -----  \n",
      " 0   crim     506 non-null    float64\n",
      " 1   zn       506 non-null    float64\n",
      " 2   indus    506 non-null    float64\n",
      " 3   chas     506 non-null    int64  \n",
      " 4   nox      506 non-null    float64\n",
      " 5   rm       506 non-null    float64\n",
      " 6   age      506 non-null    float64\n",
      " 7   dis      506 non-null    float64\n",
      " 8   rad      506 non-null    int64  \n",
      " 9   tax      506 non-null    int64  \n",
      " 10  ptratio  506 non-null    float64\n",
      " 11  black    506 non-null    float64\n",
      " 12  lstat    506 non-null    float64\n",
      " 13  medv     506 non-null    float64\n",
      "dtypes: float64(11), int64(3)\n",
      "memory usage: 55.5 KB\n"
     ]
    }
   ],
   "source": [
    "data.info()"
   ]
  },
  {
   "cell_type": "markdown",
   "metadata": {
    "papermill": {
     "duration": 0.03749,
     "end_time": "2020-10-19T13:12:45.816358",
     "exception": false,
     "start_time": "2020-10-19T13:12:45.778868",
     "status": "completed"
    },
    "tags": []
   },
   "source": [
    "<p>The description of the various features or predictor variables are as follows<br><br>\n",
    "CRIM - per capita crime rate by town<br>\n",
    "ZN - proportion of residential land zoned for lots over 25,000 sq.ft.<br>\n",
    "INDUS - proportion of non-retail business acres per town.<br>\n",
    "CHAS - Charles River dummy variable (1 if tract bounds river; 0 otherwise)<br>\n",
    "NOX - nitric oxides concentration (parts per 10 million)<br>\n",
    "RM - average number of rooms per dwelling<br>\n",
    "AGE - proportion of owner-occupied units built prior to 1940<br>\n",
    "DIS - weighted distances to five Boston employment centres<br>\n",
    "RAD - index of accessibility to radial highways<br>\n",
    "TAX - full-value property-tax rate per 10,000 dollars<br>\n",
    "PTRATIO - pupil-teacher ratio by town<br>\n",
    "B - 1000(Bk - 0.63)^2 where Bk is the proportion of blacks by town<br>\n",
    "LSTAT - perecentage of lower status of the population<br>\n",
    "MEDV - Median value of owner-occupied homes in 1000's</p><br>\n",
    "<p>P.S: The predictor B is particulary problematic.</p>"
   ]
  },
  {
   "cell_type": "markdown",
   "metadata": {
    "papermill": {
     "duration": 0.037091,
     "end_time": "2020-10-19T13:12:45.891674",
     "exception": false,
     "start_time": "2020-10-19T13:12:45.854583",
     "status": "completed"
    },
    "tags": []
   },
   "source": [
    "We can summarize some basics statistics as follows"
   ]
  },
  {
   "cell_type": "code",
   "execution_count": 5,
   "metadata": {
    "execution": {
     "iopub.execute_input": "2020-10-19T13:12:45.975091Z",
     "iopub.status.busy": "2020-10-19T13:12:45.974414Z",
     "iopub.status.idle": "2020-10-19T13:12:46.022339Z",
     "shell.execute_reply": "2020-10-19T13:12:46.021744Z"
    },
    "papermill": {
     "duration": 0.094964,
     "end_time": "2020-10-19T13:12:46.022470",
     "exception": false,
     "start_time": "2020-10-19T13:12:45.927506",
     "status": "completed"
    },
    "tags": []
   },
   "outputs": [
    {
     "data": {
      "text/html": [
       "<div>\n",
       "<style scoped>\n",
       "    .dataframe tbody tr th:only-of-type {\n",
       "        vertical-align: middle;\n",
       "    }\n",
       "\n",
       "    .dataframe tbody tr th {\n",
       "        vertical-align: top;\n",
       "    }\n",
       "\n",
       "    .dataframe thead th {\n",
       "        text-align: right;\n",
       "    }\n",
       "</style>\n",
       "<table border=\"1\" class=\"dataframe\">\n",
       "  <thead>\n",
       "    <tr style=\"text-align: right;\">\n",
       "      <th></th>\n",
       "      <th>crim</th>\n",
       "      <th>zn</th>\n",
       "      <th>indus</th>\n",
       "      <th>chas</th>\n",
       "      <th>nox</th>\n",
       "      <th>rm</th>\n",
       "      <th>age</th>\n",
       "      <th>dis</th>\n",
       "      <th>rad</th>\n",
       "      <th>tax</th>\n",
       "      <th>ptratio</th>\n",
       "      <th>black</th>\n",
       "      <th>lstat</th>\n",
       "      <th>medv</th>\n",
       "    </tr>\n",
       "  </thead>\n",
       "  <tbody>\n",
       "    <tr>\n",
       "      <th>count</th>\n",
       "      <td>506.000000</td>\n",
       "      <td>506.000000</td>\n",
       "      <td>506.000000</td>\n",
       "      <td>506.000000</td>\n",
       "      <td>506.000000</td>\n",
       "      <td>506.000000</td>\n",
       "      <td>506.000000</td>\n",
       "      <td>506.000000</td>\n",
       "      <td>506.000000</td>\n",
       "      <td>506.000000</td>\n",
       "      <td>506.000000</td>\n",
       "      <td>506.000000</td>\n",
       "      <td>506.000000</td>\n",
       "      <td>506.000000</td>\n",
       "    </tr>\n",
       "    <tr>\n",
       "      <th>mean</th>\n",
       "      <td>3.613524</td>\n",
       "      <td>11.363636</td>\n",
       "      <td>11.136779</td>\n",
       "      <td>0.069170</td>\n",
       "      <td>0.554695</td>\n",
       "      <td>6.284634</td>\n",
       "      <td>68.574901</td>\n",
       "      <td>3.795043</td>\n",
       "      <td>9.549407</td>\n",
       "      <td>408.237154</td>\n",
       "      <td>18.455534</td>\n",
       "      <td>356.674032</td>\n",
       "      <td>12.653063</td>\n",
       "      <td>22.532806</td>\n",
       "    </tr>\n",
       "    <tr>\n",
       "      <th>std</th>\n",
       "      <td>8.601545</td>\n",
       "      <td>23.322453</td>\n",
       "      <td>6.860353</td>\n",
       "      <td>0.253994</td>\n",
       "      <td>0.115878</td>\n",
       "      <td>0.702617</td>\n",
       "      <td>28.148861</td>\n",
       "      <td>2.105710</td>\n",
       "      <td>8.707259</td>\n",
       "      <td>168.537116</td>\n",
       "      <td>2.164946</td>\n",
       "      <td>91.294864</td>\n",
       "      <td>7.141062</td>\n",
       "      <td>9.197104</td>\n",
       "    </tr>\n",
       "    <tr>\n",
       "      <th>min</th>\n",
       "      <td>0.006320</td>\n",
       "      <td>0.000000</td>\n",
       "      <td>0.460000</td>\n",
       "      <td>0.000000</td>\n",
       "      <td>0.385000</td>\n",
       "      <td>3.561000</td>\n",
       "      <td>2.900000</td>\n",
       "      <td>1.129600</td>\n",
       "      <td>1.000000</td>\n",
       "      <td>187.000000</td>\n",
       "      <td>12.600000</td>\n",
       "      <td>0.320000</td>\n",
       "      <td>1.730000</td>\n",
       "      <td>5.000000</td>\n",
       "    </tr>\n",
       "    <tr>\n",
       "      <th>25%</th>\n",
       "      <td>0.082045</td>\n",
       "      <td>0.000000</td>\n",
       "      <td>5.190000</td>\n",
       "      <td>0.000000</td>\n",
       "      <td>0.449000</td>\n",
       "      <td>5.885500</td>\n",
       "      <td>45.025000</td>\n",
       "      <td>2.100175</td>\n",
       "      <td>4.000000</td>\n",
       "      <td>279.000000</td>\n",
       "      <td>17.400000</td>\n",
       "      <td>375.377500</td>\n",
       "      <td>6.950000</td>\n",
       "      <td>17.025000</td>\n",
       "    </tr>\n",
       "    <tr>\n",
       "      <th>50%</th>\n",
       "      <td>0.256510</td>\n",
       "      <td>0.000000</td>\n",
       "      <td>9.690000</td>\n",
       "      <td>0.000000</td>\n",
       "      <td>0.538000</td>\n",
       "      <td>6.208500</td>\n",
       "      <td>77.500000</td>\n",
       "      <td>3.207450</td>\n",
       "      <td>5.000000</td>\n",
       "      <td>330.000000</td>\n",
       "      <td>19.050000</td>\n",
       "      <td>391.440000</td>\n",
       "      <td>11.360000</td>\n",
       "      <td>21.200000</td>\n",
       "    </tr>\n",
       "    <tr>\n",
       "      <th>75%</th>\n",
       "      <td>3.677082</td>\n",
       "      <td>12.500000</td>\n",
       "      <td>18.100000</td>\n",
       "      <td>0.000000</td>\n",
       "      <td>0.624000</td>\n",
       "      <td>6.623500</td>\n",
       "      <td>94.075000</td>\n",
       "      <td>5.188425</td>\n",
       "      <td>24.000000</td>\n",
       "      <td>666.000000</td>\n",
       "      <td>20.200000</td>\n",
       "      <td>396.225000</td>\n",
       "      <td>16.955000</td>\n",
       "      <td>25.000000</td>\n",
       "    </tr>\n",
       "    <tr>\n",
       "      <th>max</th>\n",
       "      <td>88.976200</td>\n",
       "      <td>100.000000</td>\n",
       "      <td>27.740000</td>\n",
       "      <td>1.000000</td>\n",
       "      <td>0.871000</td>\n",
       "      <td>8.780000</td>\n",
       "      <td>100.000000</td>\n",
       "      <td>12.126500</td>\n",
       "      <td>24.000000</td>\n",
       "      <td>711.000000</td>\n",
       "      <td>22.000000</td>\n",
       "      <td>396.900000</td>\n",
       "      <td>37.970000</td>\n",
       "      <td>50.000000</td>\n",
       "    </tr>\n",
       "  </tbody>\n",
       "</table>\n",
       "</div>"
      ],
      "text/plain": [
       "             crim          zn       indus        chas         nox          rm  \\\n",
       "count  506.000000  506.000000  506.000000  506.000000  506.000000  506.000000   \n",
       "mean     3.613524   11.363636   11.136779    0.069170    0.554695    6.284634   \n",
       "std      8.601545   23.322453    6.860353    0.253994    0.115878    0.702617   \n",
       "min      0.006320    0.000000    0.460000    0.000000    0.385000    3.561000   \n",
       "25%      0.082045    0.000000    5.190000    0.000000    0.449000    5.885500   \n",
       "50%      0.256510    0.000000    9.690000    0.000000    0.538000    6.208500   \n",
       "75%      3.677082   12.500000   18.100000    0.000000    0.624000    6.623500   \n",
       "max     88.976200  100.000000   27.740000    1.000000    0.871000    8.780000   \n",
       "\n",
       "              age         dis         rad         tax     ptratio       black  \\\n",
       "count  506.000000  506.000000  506.000000  506.000000  506.000000  506.000000   \n",
       "mean    68.574901    3.795043    9.549407  408.237154   18.455534  356.674032   \n",
       "std     28.148861    2.105710    8.707259  168.537116    2.164946   91.294864   \n",
       "min      2.900000    1.129600    1.000000  187.000000   12.600000    0.320000   \n",
       "25%     45.025000    2.100175    4.000000  279.000000   17.400000  375.377500   \n",
       "50%     77.500000    3.207450    5.000000  330.000000   19.050000  391.440000   \n",
       "75%     94.075000    5.188425   24.000000  666.000000   20.200000  396.225000   \n",
       "max    100.000000   12.126500   24.000000  711.000000   22.000000  396.900000   \n",
       "\n",
       "            lstat        medv  \n",
       "count  506.000000  506.000000  \n",
       "mean    12.653063   22.532806  \n",
       "std      7.141062    9.197104  \n",
       "min      1.730000    5.000000  \n",
       "25%      6.950000   17.025000  \n",
       "50%     11.360000   21.200000  \n",
       "75%     16.955000   25.000000  \n",
       "max     37.970000   50.000000  "
      ]
     },
     "execution_count": 5,
     "metadata": {},
     "output_type": "execute_result"
    }
   ],
   "source": [
    "data.describe()"
   ]
  },
  {
   "cell_type": "markdown",
   "metadata": {
    "papermill": {
     "duration": 0.036643,
     "end_time": "2020-10-19T13:12:46.097315",
     "exception": false,
     "start_time": "2020-10-19T13:12:46.060672",
     "status": "completed"
    },
    "tags": []
   },
   "source": [
    "<p>According to <a href = \"https://www.cs.toronto.edu/~delve/data/boston/bostonDetail.html\">this</a>, the variable <em>medv</em> seems to be censored.<br>\n",
    " From the histogram"
   ]
  },
  {
   "cell_type": "code",
   "execution_count": 6,
   "metadata": {
    "execution": {
     "iopub.execute_input": "2020-10-19T13:12:46.176527Z",
     "iopub.status.busy": "2020-10-19T13:12:46.175833Z",
     "iopub.status.idle": "2020-10-19T13:12:46.407541Z",
     "shell.execute_reply": "2020-10-19T13:12:46.406854Z"
    },
    "papermill": {
     "duration": 0.273232,
     "end_time": "2020-10-19T13:12:46.407659",
     "exception": false,
     "start_time": "2020-10-19T13:12:46.134427",
     "status": "completed"
    },
    "tags": []
   },
   "outputs": [
    {
     "data": {
      "text/plain": [
       "<matplotlib.axes._subplots.AxesSubplot at 0x2aa4d741b88>"
      ]
     },
     "execution_count": 6,
     "metadata": {},
     "output_type": "execute_result"
    },
    {
     "data": {
      "image/png": "[encoded data removed]",
      "text/plain": [
       "<Figure size 720x360 with 1 Axes>"
      ]
     },
     "metadata": {
      "needs_background": "light"
     },
     "output_type": "display_data"
    }
   ],
   "source": [
    "plt.figure(figsize = (10, 5))\n",
    "sns.distplot(data[\"medv\"], kde= False)"
   ]
  },
  {
   "cell_type": "markdown",
   "metadata": {
    "papermill": {
     "duration": 0.037052,
     "end_time": "2020-10-19T13:12:46.482178",
     "exception": false,
     "start_time": "2020-10-19T13:12:46.445126",
     "status": "completed"
    },
    "tags": []
   },
   "source": [
    "<p>we can see that the value 50.000 represents an outlier in our distribution.<p><br>\n",
    "We can first check how many data points correspond to this value "
   ]
  },
  {
   "cell_type": "code",
   "execution_count": 7,
   "metadata": {
    "execution": {
     "iopub.execute_input": "2020-10-19T13:12:46.562138Z",
     "iopub.status.busy": "2020-10-19T13:12:46.561477Z",
     "iopub.status.idle": "2020-10-19T13:12:46.586938Z",
     "shell.execute_reply": "2020-10-19T13:12:46.586414Z"
    },
    "papermill": {
     "duration": 0.067614,
     "end_time": "2020-10-19T13:12:46.587057",
     "exception": false,
     "start_time": "2020-10-19T13:12:46.519443",
     "status": "completed"
    },
    "tags": []
   },
   "outputs": [
    {
     "data": {
      "text/plain": [
       "16"
      ]
     },
     "execution_count": 7,
     "metadata": {},
     "output_type": "execute_result"
    }
   ],
   "source": [
    "data[data[\"medv\"] == 50].shape[0]"
   ]
  },
  {
   "cell_type": "markdown",
   "metadata": {
    "papermill": {
     "duration": 0.039075,
     "end_time": "2020-10-19T13:12:46.663931",
     "exception": false,
     "start_time": "2020-10-19T13:12:46.624856",
     "status": "completed"
    },
    "tags": []
   },
   "source": [
    "We can the proceed to remove these points, at least for the moment."
   ]
  },
  {
   "cell_type": "code",
   "execution_count": 8,
   "metadata": {
    "execution": {
     "iopub.execute_input": "2020-10-19T13:12:46.746467Z",
     "iopub.status.busy": "2020-10-19T13:12:46.745638Z",
     "iopub.status.idle": "2020-10-19T13:12:46.748980Z",
     "shell.execute_reply": "2020-10-19T13:12:46.748335Z"
    },
    "papermill": {
     "duration": 0.047125,
     "end_time": "2020-10-19T13:12:46.749099",
     "exception": false,
     "start_time": "2020-10-19T13:12:46.701974",
     "status": "completed"
    },
    "tags": []
   },
   "outputs": [],
   "source": [
    "data = data[data[\"medv\"] < 50]"
   ]
  },
  {
   "cell_type": "markdown",
   "metadata": {
    "papermill": {
     "duration": 0.038345,
     "end_time": "2020-10-19T13:12:46.826261",
     "exception": false,
     "start_time": "2020-10-19T13:12:46.787916",
     "status": "completed"
    },
    "tags": []
   },
   "source": [
    "<p>We can investigate now how the various predictors correlate with the target variable <em>medv</em><p>"
   ]
  },
  {
   "cell_type": "code",
   "execution_count": 9,
   "metadata": {
    "execution": {
     "iopub.execute_input": "2020-10-19T13:12:46.911099Z",
     "iopub.status.busy": "2020-10-19T13:12:46.910332Z",
     "iopub.status.idle": "2020-10-19T13:12:47.763891Z",
     "shell.execute_reply": "2020-10-19T13:12:47.764570Z"
    },
    "papermill": {
     "duration": 0.900398,
     "end_time": "2020-10-19T13:12:47.764730",
     "exception": false,
     "start_time": "2020-10-19T13:12:46.864332",
     "status": "completed"
    },
    "tags": []
   },
   "outputs": [
    {
     "data": {
      "text/plain": [
       "<matplotlib.axes._subplots.AxesSubplot at 0x2aa4d5bc388>"
      ]
     },
     "execution_count": 9,
     "metadata": {},
     "output_type": "execute_result"
    },
    {
     "data": {
      "image/png": "[encoded data removed]",
      "text/plain": [
       "<Figure size 1080x720 with 2 Axes>"
      ]
     },
     "metadata": {
      "needs_background": "light"
     },
     "output_type": "display_data"
    }
   ],
   "source": [
    "plt.figure(figsize = (15, 10))\n",
    "sns.heatmap(data.corr(), annot=True)"
   ]
  },
  {
   "cell_type": "markdown",
   "metadata": {
    "papermill": {
     "duration": 0.040843,
     "end_time": "2020-10-19T13:12:47.853462",
     "exception": false,
     "start_time": "2020-10-19T13:12:47.812619",
     "status": "completed"
    },
    "tags": []
   },
   "source": [
    "<p>From the correlation matrix above, we expect that the predictors <em>indus</em>, <em>rm</em>, and <em>lstat</em> will induce a response on the target variable. Moreover, from domain knowledge we expect that also the variable <em>ptratio</em>, i.e. pupils to teacher ratio, will play a relevant role.</p>"
   ]
  },
  {
   "cell_type": "markdown",
   "metadata": {
    "papermill": {
     "duration": 0.040877,
     "end_time": "2020-10-19T13:12:47.936286",
     "exception": false,
     "start_time": "2020-10-19T13:12:47.895409",
     "status": "completed"
    },
    "tags": []
   },
   "source": [
    "We can ispect a few scatter plots to convince ourselves of the relation"
   ]
  },
  {
   "cell_type": "code",
   "execution_count": 10,
   "metadata": {
    "execution": {
     "iopub.execute_input": "2020-10-19T13:12:48.035612Z",
     "iopub.status.busy": "2020-10-19T13:12:48.033471Z",
     "iopub.status.idle": "2020-10-19T13:12:48.204621Z",
     "shell.execute_reply": "2020-10-19T13:12:48.204043Z"
    },
    "papermill": {
     "duration": 0.226925,
     "end_time": "2020-10-19T13:12:48.204751",
     "exception": false,
     "start_time": "2020-10-19T13:12:47.977826",
     "status": "completed"
    },
    "tags": []
   },
   "outputs": [
    {
     "data": {
      "text/plain": [
       "<matplotlib.axes._subplots.AxesSubplot at 0x2aa4e092b48>"
      ]
     },
     "execution_count": 10,
     "metadata": {},
     "output_type": "execute_result"
    },
    {
     "data": {
      "image/png": "[encoded data removed]",
      "text/plain": [
       "<Figure size 720x720 with 1 Axes>"
      ]
     },
     "metadata": {
      "needs_background": "light"
     },
     "output_type": "display_data"
    }
   ],
   "source": [
    "plt.figure(figsize = (10, 10))\n",
    "sns.scatterplot(x = \"lstat\", y = \"medv\", data = data)"
   ]
  },
  {
   "cell_type": "code",
   "execution_count": 11,
   "metadata": {
    "execution": {
     "iopub.execute_input": "2020-10-19T13:12:48.307062Z",
     "iopub.status.busy": "2020-10-19T13:12:48.300999Z",
     "iopub.status.idle": "2020-10-19T13:12:48.469582Z",
     "shell.execute_reply": "2020-10-19T13:12:48.468986Z"
    },
    "papermill": {
     "duration": 0.220616,
     "end_time": "2020-10-19T13:12:48.469705",
     "exception": false,
     "start_time": "2020-10-19T13:12:48.249089",
     "status": "completed"
    },
    "tags": []
   },
   "outputs": [
    {
     "data": {
      "text/plain": [
       "<matplotlib.axes._subplots.AxesSubplot at 0x2aa4e2eac88>"
      ]
     },
     "execution_count": 11,
     "metadata": {},
     "output_type": "execute_result"
    },
    {
     "data": {
      "image/png": "[encoded data removed]",
      "text/plain": [
       "<Figure size 720x720 with 1 Axes>"
      ]
     },
     "metadata": {
      "needs_background": "light"
     },
     "output_type": "display_data"
    }
   ],
   "source": [
    "plt.figure(figsize = (10, 10))\n",
    "sns.scatterplot(x = \"rm\", y = \"medv\", data = data)"
   ]
  },
  {
   "cell_type": "code",
   "execution_count": 12,
   "metadata": {
    "execution": {
     "iopub.execute_input": "2020-10-19T13:12:48.568703Z",
     "iopub.status.busy": "2020-10-19T13:12:48.566647Z",
     "iopub.status.idle": "2020-10-19T13:12:48.740094Z",
     "shell.execute_reply": "2020-10-19T13:12:48.739456Z"
    },
    "papermill": {
     "duration": 0.225865,
     "end_time": "2020-10-19T13:12:48.740232",
     "exception": false,
     "start_time": "2020-10-19T13:12:48.514367",
     "status": "completed"
    },
    "tags": []
   },
   "outputs": [
    {
     "data": {
      "text/plain": [
       "<matplotlib.axes._subplots.AxesSubplot at 0x2aa4e3109c8>"
      ]
     },
     "execution_count": 12,
     "metadata": {},
     "output_type": "execute_result"
    },
    {
     "data": {
      "image/png": "[encoded data removed]",
      "text/plain": [
       "<Figure size 720x720 with 1 Axes>"
      ]
     },
     "metadata": {
      "needs_background": "light"
     },
     "output_type": "display_data"
    }
   ],
   "source": [
    "plt.figure(figsize = (10, 10))\n",
    "sns.scatterplot(x = \"indus\", y = \"medv\", data = data)"
   ]
  },
  {
   "cell_type": "markdown",
   "metadata": {
    "papermill": {
     "duration": 0.046379,
     "end_time": "2020-10-19T13:12:48.833836",
     "exception": false,
     "start_time": "2020-10-19T13:12:48.787457",
     "status": "completed"
    },
    "tags": []
   },
   "source": [
    "<p>We can see that the relation is less clear in the case of the descriptor <em>indus</em>.</p>"
   ]
  },
  {
   "cell_type": "markdown",
   "metadata": {
    "papermill": {
     "duration": 0.046806,
     "end_time": "2020-10-19T13:12:48.927937",
     "exception": false,
     "start_time": "2020-10-19T13:12:48.881131",
     "status": "completed"
    },
    "tags": []
   },
   "source": [
    "<h2>2. Linear Models</h2>"
   ]
  },
  {
   "cell_type": "markdown",
   "metadata": {
    "papermill": {
     "duration": 0.044847,
     "end_time": "2020-10-19T13:12:49.018213",
     "exception": false,
     "start_time": "2020-10-19T13:12:48.973366",
     "status": "completed"
    },
    "tags": []
   },
   "source": [
    "<p>We will now implement a <b>linear model</b>, i.e. a model of the form</p><br>\n",
    "$Y = \\beta_{0} + \\beta_{1}X_{1} + \\beta_{2}X_{2} + \\cdots \\beta_{n}X_{n}$\n",
    "<p>where $n$ is the number of features or descriptors.</p><br>\n",
    "From a statistical learning point of view, we assume that, modulo errors, the above model describes the dependence between the random variables $X_{1}, X_{2},\\ldots,X_{n}$ and the random variable $Y$. <br>\n",
    "In this sense, we consider the quantities $\\beta_{i}$ as <b>fixed but unknown</b> parameters of our model, which we want to estimate from a random sample of the variables $X_{1}, X_{2},\\ldots,X_{n},Y$, i.e. our training dataset.<br> \n",
    "We can then apply the machinery of hypothesis testing to investigate the accuracy of the predicted values for these parameters.<br><br>\n",
    "\n",
    "In the following, we will divide our dataset in train and test, and use the later for final evaluation.</p>"
   ]
  },
  {
   "cell_type": "code",
   "execution_count": 13,
   "metadata": {
    "execution": {
     "iopub.execute_input": "2020-10-19T13:12:49.115919Z",
     "iopub.status.busy": "2020-10-19T13:12:49.114962Z",
     "iopub.status.idle": "2020-10-19T13:12:49.117922Z",
     "shell.execute_reply": "2020-10-19T13:12:49.117406Z"
    },
    "papermill": {
     "duration": 0.054618,
     "end_time": "2020-10-19T13:12:49.118031",
     "exception": false,
     "start_time": "2020-10-19T13:12:49.063413",
     "status": "completed"
    },
    "tags": []
   },
   "outputs": [],
   "source": [
    "##Extract dependent and independent variables\n",
    "\n",
    "y = data[\"medv\"]\n",
    "X = data.drop(\"medv\", axis = 1)"
   ]
  },
  {
   "cell_type": "code",
   "execution_count": 14,
   "metadata": {
    "execution": {
     "iopub.execute_input": "2020-10-19T13:12:49.216745Z",
     "iopub.status.busy": "2020-10-19T13:12:49.216049Z",
     "iopub.status.idle": "2020-10-19T13:12:49.218900Z",
     "shell.execute_reply": "2020-10-19T13:12:49.219386Z"
    },
    "papermill": {
     "duration": 0.055855,
     "end_time": "2020-10-19T13:12:49.219542",
     "exception": false,
     "start_time": "2020-10-19T13:12:49.163687",
     "status": "completed"
    },
    "tags": []
   },
   "outputs": [],
   "source": [
    "## Split dataset as train/test\n",
    "\n",
    "X_train, X_test, y_train, y_test = train_test_split(X, y, test_size = 0.2)"
   ]
  },
  {
   "cell_type": "markdown",
   "metadata": {
    "papermill": {
     "duration": 0.045877,
     "end_time": "2020-10-19T13:12:49.310905",
     "exception": false,
     "start_time": "2020-10-19T13:12:49.265028",
     "status": "completed"
    },
    "tags": []
   },
   "source": [
    "We first scale and center the dataset"
   ]
  },
  {
   "cell_type": "code",
   "execution_count": 15,
   "metadata": {
    "execution": {
     "iopub.execute_input": "2020-10-19T13:12:49.410448Z",
     "iopub.status.busy": "2020-10-19T13:12:49.409754Z",
     "iopub.status.idle": "2020-10-19T13:12:49.416152Z",
     "shell.execute_reply": "2020-10-19T13:12:49.415472Z"
    },
    "papermill": {
     "duration": 0.05936,
     "end_time": "2020-10-19T13:12:49.416294",
     "exception": false,
     "start_time": "2020-10-19T13:12:49.356934",
     "status": "completed"
    },
    "tags": []
   },
   "outputs": [],
   "source": [
    "scaler = StandardScaler()\n",
    "X_train_l = scaler.fit_transform(X_train)\n",
    "y_train_l = y_train - np.average(y_train) ##Centering the target data"
   ]
  },
  {
   "cell_type": "markdown",
   "metadata": {
    "papermill": {
     "duration": 0.04518,
     "end_time": "2020-10-19T13:12:49.507089",
     "exception": false,
     "start_time": "2020-10-19T13:12:49.461909",
     "status": "completed"
    },
    "tags": []
   },
   "source": [
    "We can now then use statsmodel to perform an (ordinary) multiple linear regression"
   ]
  },
  {
   "cell_type": "code",
   "execution_count": 16,
   "metadata": {
    "execution": {
     "iopub.execute_input": "2020-10-19T13:12:49.605617Z",
     "iopub.status.busy": "2020-10-19T13:12:49.604875Z",
     "iopub.status.idle": "2020-10-19T13:12:49.645937Z",
     "shell.execute_reply": "2020-10-19T13:12:49.646474Z"
    },
    "papermill": {
     "duration": 0.092868,
     "end_time": "2020-10-19T13:12:49.646639",
     "exception": false,
     "start_time": "2020-10-19T13:12:49.553771",
     "status": "completed"
    },
    "tags": []
   },
   "outputs": [],
   "source": [
    "X_train_l = sm.add_constant(X_train_l)\n",
    "model = sm.OLS(y_train_l, X_train_l)\n",
    "results = model.fit()"
   ]
  },
  {
   "cell_type": "code",
   "execution_count": 17,
   "metadata": {
    "execution": {
     "iopub.execute_input": "2020-10-19T13:12:49.764491Z",
     "iopub.status.busy": "2020-10-19T13:12:49.746747Z",
     "iopub.status.idle": "2020-10-19T13:12:49.769232Z",
     "shell.execute_reply": "2020-10-19T13:12:49.768535Z"
    },
    "papermill": {
     "duration": 0.076352,
     "end_time": "2020-10-19T13:12:49.769375",
     "exception": false,
     "start_time": "2020-10-19T13:12:49.693023",
     "status": "completed"
    },
    "tags": []
   },
   "outputs": [
    {
     "data": {
      "text/html": [
       "<table class=\"simpletable\">\n",
       "<caption>OLS Regression Results</caption>\n",
       "<tr>\n",
       "  <th>Dep. Variable:</th>          <td>medv</td>       <th>  R-squared:         </th> <td>   0.770</td> \n",
       "</tr>\n",
       "<tr>\n",
       "  <th>Model:</th>                   <td>OLS</td>       <th>  Adj. R-squared:    </th> <td>   0.762</td> \n",
       "</tr>\n",
       "<tr>\n",
       "  <th>Method:</th>             <td>Least Squares</td>  <th>  F-statistic:       </th> <td>   97.56</td> \n",
       "</tr>\n",
       "<tr>\n",
       "  <th>Date:</th>             <td>Mon, 19 Oct 2020</td> <th>  Prob (F-statistic):</th> <td>5.16e-112</td>\n",
       "</tr>\n",
       "<tr>\n",
       "  <th>Time:</th>                 <td>16:18:26</td>     <th>  Log-Likelihood:    </th> <td> -1078.7</td> \n",
       "</tr>\n",
       "<tr>\n",
       "  <th>No. Observations:</th>      <td>   392</td>      <th>  AIC:               </th> <td>   2185.</td> \n",
       "</tr>\n",
       "<tr>\n",
       "  <th>Df Residuals:</th>          <td>   378</td>      <th>  BIC:               </th> <td>   2241.</td> \n",
       "</tr>\n",
       "<tr>\n",
       "  <th>Df Model:</th>              <td>    13</td>      <th>                     </th>     <td> </td>    \n",
       "</tr>\n",
       "<tr>\n",
       "  <th>Covariance Type:</th>      <td>nonrobust</td>    <th>                     </th>     <td> </td>    \n",
       "</tr>\n",
       "</table>\n",
       "<table class=\"simpletable\">\n",
       "<tr>\n",
       "    <td></td>       <th>coef</th>     <th>std err</th>      <th>t</th>      <th>P>|t|</th>  <th>[0.025</th>    <th>0.975]</th>  \n",
       "</tr>\n",
       "<tr>\n",
       "  <th>const</th> <td> 3.275e-15</td> <td>    0.195</td> <td> 1.68e-14</td> <td> 1.000</td> <td>   -0.383</td> <td>    0.383</td>\n",
       "</tr>\n",
       "<tr>\n",
       "  <th>x1</th>    <td>   -0.9579</td> <td>    0.259</td> <td>   -3.692</td> <td> 0.000</td> <td>   -1.468</td> <td>   -0.448</td>\n",
       "</tr>\n",
       "<tr>\n",
       "  <th>x2</th>    <td>    0.7431</td> <td>    0.294</td> <td>    2.526</td> <td> 0.012</td> <td>    0.165</td> <td>    1.322</td>\n",
       "</tr>\n",
       "<tr>\n",
       "  <th>x3</th>    <td>   -0.3462</td> <td>    0.389</td> <td>   -0.889</td> <td> 0.374</td> <td>   -1.112</td> <td>    0.419</td>\n",
       "</tr>\n",
       "<tr>\n",
       "  <th>x4</th>    <td>   -0.0291</td> <td>    0.204</td> <td>   -0.143</td> <td> 0.887</td> <td>   -0.430</td> <td>    0.372</td>\n",
       "</tr>\n",
       "<tr>\n",
       "  <th>x5</th>    <td>   -1.3278</td> <td>    0.416</td> <td>   -3.193</td> <td> 0.002</td> <td>   -2.145</td> <td>   -0.510</td>\n",
       "</tr>\n",
       "<tr>\n",
       "  <th>x6</th>    <td>    2.2914</td> <td>    0.263</td> <td>    8.711</td> <td> 0.000</td> <td>    1.774</td> <td>    2.809</td>\n",
       "</tr>\n",
       "<tr>\n",
       "  <th>x7</th>    <td>   -0.4970</td> <td>    0.337</td> <td>   -1.476</td> <td> 0.141</td> <td>   -1.159</td> <td>    0.165</td>\n",
       "</tr>\n",
       "<tr>\n",
       "  <th>x8</th>    <td>   -2.5447</td> <td>    0.389</td> <td>   -6.542</td> <td> 0.000</td> <td>   -3.310</td> <td>   -1.780</td>\n",
       "</tr>\n",
       "<tr>\n",
       "  <th>x9</th>    <td>    2.3247</td> <td>    0.514</td> <td>    4.525</td> <td> 0.000</td> <td>    1.315</td> <td>    3.335</td>\n",
       "</tr>\n",
       "<tr>\n",
       "  <th>x10</th>   <td>   -2.4852</td> <td>    0.562</td> <td>   -4.422</td> <td> 0.000</td> <td>   -3.590</td> <td>   -1.380</td>\n",
       "</tr>\n",
       "<tr>\n",
       "  <th>x11</th>   <td>   -1.8576</td> <td>    0.253</td> <td>   -7.334</td> <td> 0.000</td> <td>   -2.356</td> <td>   -1.360</td>\n",
       "</tr>\n",
       "<tr>\n",
       "  <th>x12</th>   <td>    0.7729</td> <td>    0.232</td> <td>    3.326</td> <td> 0.001</td> <td>    0.316</td> <td>    1.230</td>\n",
       "</tr>\n",
       "<tr>\n",
       "  <th>x13</th>   <td>   -2.7202</td> <td>    0.342</td> <td>   -7.946</td> <td> 0.000</td> <td>   -3.393</td> <td>   -2.047</td>\n",
       "</tr>\n",
       "</table>\n",
       "<table class=\"simpletable\">\n",
       "<tr>\n",
       "  <th>Omnibus:</th>       <td>65.689</td> <th>  Durbin-Watson:     </th> <td>   2.010</td>\n",
       "</tr>\n",
       "<tr>\n",
       "  <th>Prob(Omnibus):</th> <td> 0.000</td> <th>  Jarque-Bera (JB):  </th> <td> 116.733</td>\n",
       "</tr>\n",
       "<tr>\n",
       "  <th>Skew:</th>          <td> 0.959</td> <th>  Prob(JB):          </th> <td>4.49e-26</td>\n",
       "</tr>\n",
       "<tr>\n",
       "  <th>Kurtosis:</th>      <td> 4.863</td> <th>  Cond. No.          </th> <td>    9.42</td>\n",
       "</tr>\n",
       "</table><br/><br/>Notes:<br/>[1] Standard Errors assume that the covariance matrix of the errors is correctly specified."
      ],
      "text/plain": [
       "<class 'statsmodels.iolib.summary.Summary'>\n",
       "\"\"\"\n",
       "                            OLS Regression Results                            \n",
       "==============================================================================\n",
       "Dep. Variable:                   medv   R-squared:                       0.770\n",
       "Model:                            OLS   Adj. R-squared:                  0.762\n",
       "Method:                 Least Squares   F-statistic:                     97.56\n",
       "Date:                Mon, 19 Oct 2020   Prob (F-statistic):          5.16e-112\n",
       "Time:                        16:18:26   Log-Likelihood:                -1078.7\n",
       "No. Observations:                 392   AIC:                             2185.\n",
       "Df Residuals:                     378   BIC:                             2241.\n",
       "Df Model:                          13                                         \n",
       "Covariance Type:            nonrobust                                         \n",
       "==============================================================================\n",
       "                 coef    std err          t      P>|t|      [0.025      0.975]\n",
       "------------------------------------------------------------------------------\n",
       "const       3.275e-15      0.195   1.68e-14      1.000      -0.383       0.383\n",
       "x1            -0.9579      0.259     -3.692      0.000      -1.468      -0.448\n",
       "x2             0.7431      0.294      2.526      0.012       0.165       1.322\n",
       "x3            -0.3462      0.389     -0.889      0.374      -1.112       0.419\n",
       "x4            -0.0291      0.204     -0.143      0.887      -0.430       0.372\n",
       "x5            -1.3278      0.416     -3.193      0.002      -2.145      -0.510\n",
       "x6             2.2914      0.263      8.711      0.000       1.774       2.809\n",
       "x7            -0.4970      0.337     -1.476      0.141      -1.159       0.165\n",
       "x8            -2.5447      0.389     -6.542      0.000      -3.310      -1.780\n",
       "x9             2.3247      0.514      4.525      0.000       1.315       3.335\n",
       "x10           -2.4852      0.562     -4.422      0.000      -3.590      -1.380\n",
       "x11           -1.8576      0.253     -7.334      0.000      -2.356      -1.360\n",
       "x12            0.7729      0.232      3.326      0.001       0.316       1.230\n",
       "x13           -2.7202      0.342     -7.946      0.000      -3.393      -2.047\n",
       "==============================================================================\n",
       "Omnibus:                       65.689   Durbin-Watson:                   2.010\n",
       "Prob(Omnibus):                  0.000   Jarque-Bera (JB):              116.733\n",
       "Skew:                           0.959   Prob(JB):                     4.49e-26\n",
       "Kurtosis:                       4.863   Cond. No.                         9.42\n",
       "==============================================================================\n",
       "\n",
       "Notes:\n",
       "[1] Standard Errors assume that the covariance matrix of the errors is correctly specified.\n",
       "\"\"\""
      ]
     },
     "execution_count": 17,
     "metadata": {},
     "output_type": "execute_result"
    }
   ],
   "source": [
    "results.summary()"
   ]
  },
  {
   "cell_type": "markdown",
   "metadata": {
    "papermill": {
     "duration": 0.045949,
     "end_time": "2020-10-19T13:12:49.915053",
     "exception": false,
     "start_time": "2020-10-19T13:12:49.869104",
     "status": "completed"
    },
    "tags": []
   },
   "source": [
    "<p>The table above contains information, which we can use to answer the following questions: <p>\n",
    "    <ul>\n",
    "        <li> Is there a relationship between at least one of the descriptors $X_{1},\\ldots,X_{n}$ and the variable Y?</li>\n",
    "        <li> Which feature is worth keeping?</li>\n",
    "    </ul>"
   ]
  },
  {
   "cell_type": "markdown",
   "metadata": {
    "papermill": {
     "duration": 0.045644,
     "end_time": "2020-10-19T13:12:50.006982",
     "exception": false,
     "start_time": "2020-10-19T13:12:49.961338",
     "status": "completed"
    },
    "tags": []
   },
   "source": [
    "<p>The answer to the first question is provided by the value of the F-statistics: since it is quite large, we can reject the hypothesis of no relation between the descriptors and the target variable.</p><br>\n",
    "<p>Regarding the second answer, there are various techniques we can use to identify the features to keep. In the following, we will use <b>backward elimination</b>. Namely, we eliminate a feature if with maximum p-value such that it is above a threshold (in this case 0.05); after each elimination, we fit the model again.</p> "
   ]
  },
  {
   "cell_type": "code",
   "execution_count": 18,
   "metadata": {
    "execution": {
     "iopub.execute_input": "2020-10-19T13:12:50.104483Z",
     "iopub.status.busy": "2020-10-19T13:12:50.103751Z",
     "iopub.status.idle": "2020-10-19T13:12:50.106472Z",
     "shell.execute_reply": "2020-10-19T13:12:50.105847Z"
    },
    "papermill": {
     "duration": 0.053518,
     "end_time": "2020-10-19T13:12:50.106587",
     "exception": false,
     "start_time": "2020-10-19T13:12:50.053069",
     "status": "completed"
    },
    "tags": []
   },
   "outputs": [],
   "source": [
    "##List of the column indices to keep\n",
    "\n",
    "features_keep = list(range(X_train_l.shape[1]))"
   ]
  },
  {
   "cell_type": "code",
   "execution_count": 19,
   "metadata": {
    "execution": {
     "iopub.execute_input": "2020-10-19T13:12:50.207971Z",
     "iopub.status.busy": "2020-10-19T13:12:50.207107Z",
     "iopub.status.idle": "2020-10-19T13:12:50.223235Z",
     "shell.execute_reply": "2020-10-19T13:12:50.222387Z"
    },
    "papermill": {
     "duration": 0.069751,
     "end_time": "2020-10-19T13:12:50.223380",
     "exception": false,
     "start_time": "2020-10-19T13:12:50.153629",
     "status": "completed"
    },
    "tags": []
   },
   "outputs": [],
   "source": [
    "p_val = 1\n",
    "while p_val > 0.05:\n",
    "    model = sm.OLS(y_train_l, X_train_l[:, features_keep])\n",
    "    results = model.fit()\n",
    "    ##Find the index corresponding to the maximum p-value\n",
    "    idx_max = np.argmax(results.pvalues)\n",
    "    p_val = results.pvalues[idx_max]\n",
    "    ##In case the p-value is above the threshold, remove the corresponding feature\n",
    "    if (p_val > 0.05):\n",
    "        features_keep.pop(idx_max)"
   ]
  },
  {
   "cell_type": "code",
   "execution_count": 20,
   "metadata": {
    "execution": {
     "iopub.execute_input": "2020-10-19T13:12:50.353698Z",
     "iopub.status.busy": "2020-10-19T13:12:50.352835Z",
     "iopub.status.idle": "2020-10-19T13:12:50.374614Z",
     "shell.execute_reply": "2020-10-19T13:12:50.373834Z"
    },
    "papermill": {
     "duration": 0.094639,
     "end_time": "2020-10-19T13:12:50.374754",
     "exception": false,
     "start_time": "2020-10-19T13:12:50.280115",
     "status": "completed"
    },
    "tags": []
   },
   "outputs": [
    {
     "data": {
      "text/html": [
       "<table class=\"simpletable\">\n",
       "<caption>OLS Regression Results</caption>\n",
       "<tr>\n",
       "  <th>Dep. Variable:</th>          <td>medv</td>       <th>  R-squared (uncentered):</th>      <td>   0.769</td> \n",
       "</tr>\n",
       "<tr>\n",
       "  <th>Model:</th>                   <td>OLS</td>       <th>  Adj. R-squared (uncentered):</th> <td>   0.763</td> \n",
       "</tr>\n",
       "<tr>\n",
       "  <th>Method:</th>             <td>Least Squares</td>  <th>  F-statistic:       </th>          <td>   126.9</td> \n",
       "</tr>\n",
       "<tr>\n",
       "  <th>Date:</th>             <td>Mon, 19 Oct 2020</td> <th>  Prob (F-statistic):</th>          <td>7.81e-115</td>\n",
       "</tr>\n",
       "<tr>\n",
       "  <th>Time:</th>                 <td>16:18:26</td>     <th>  Log-Likelihood:    </th>          <td> -1080.2</td> \n",
       "</tr>\n",
       "<tr>\n",
       "  <th>No. Observations:</th>      <td>   392</td>      <th>  AIC:               </th>          <td>   2180.</td> \n",
       "</tr>\n",
       "<tr>\n",
       "  <th>Df Residuals:</th>          <td>   382</td>      <th>  BIC:               </th>          <td>   2220.</td> \n",
       "</tr>\n",
       "<tr>\n",
       "  <th>Df Model:</th>              <td>    10</td>      <th>                     </th>              <td> </td>    \n",
       "</tr>\n",
       "<tr>\n",
       "  <th>Covariance Type:</th>      <td>nonrobust</td>    <th>                     </th>              <td> </td>    \n",
       "</tr>\n",
       "</table>\n",
       "<table class=\"simpletable\">\n",
       "<tr>\n",
       "   <td></td>      <th>coef</th>     <th>std err</th>      <th>t</th>      <th>P>|t|</th>  <th>[0.025</th>    <th>0.975]</th>  \n",
       "</tr>\n",
       "<tr>\n",
       "  <th>x1</th>  <td>   -0.9582</td> <td>    0.259</td> <td>   -3.706</td> <td> 0.000</td> <td>   -1.466</td> <td>   -0.450</td>\n",
       "</tr>\n",
       "<tr>\n",
       "  <th>x2</th>  <td>    0.8061</td> <td>    0.291</td> <td>    2.770</td> <td> 0.006</td> <td>    0.234</td> <td>    1.378</td>\n",
       "</tr>\n",
       "<tr>\n",
       "  <th>x3</th>  <td>   -1.6082</td> <td>    0.376</td> <td>   -4.274</td> <td> 0.000</td> <td>   -2.348</td> <td>   -0.868</td>\n",
       "</tr>\n",
       "<tr>\n",
       "  <th>x4</th>  <td>    2.2283</td> <td>    0.255</td> <td>    8.738</td> <td> 0.000</td> <td>    1.727</td> <td>    2.730</td>\n",
       "</tr>\n",
       "<tr>\n",
       "  <th>x5</th>  <td>   -2.3126</td> <td>    0.363</td> <td>   -6.372</td> <td> 0.000</td> <td>   -3.026</td> <td>   -1.599</td>\n",
       "</tr>\n",
       "<tr>\n",
       "  <th>x6</th>  <td>    2.4922</td> <td>    0.492</td> <td>    5.062</td> <td> 0.000</td> <td>    1.524</td> <td>    3.460</td>\n",
       "</tr>\n",
       "<tr>\n",
       "  <th>x7</th>  <td>   -2.6830</td> <td>    0.512</td> <td>   -5.242</td> <td> 0.000</td> <td>   -3.689</td> <td>   -1.677</td>\n",
       "</tr>\n",
       "<tr>\n",
       "  <th>x8</th>  <td>   -1.9346</td> <td>    0.247</td> <td>   -7.829</td> <td> 0.000</td> <td>   -2.420</td> <td>   -1.449</td>\n",
       "</tr>\n",
       "<tr>\n",
       "  <th>x9</th>  <td>    0.7576</td> <td>    0.232</td> <td>    3.272</td> <td> 0.001</td> <td>    0.302</td> <td>    1.213</td>\n",
       "</tr>\n",
       "<tr>\n",
       "  <th>x10</th> <td>   -2.9143</td> <td>    0.319</td> <td>   -9.135</td> <td> 0.000</td> <td>   -3.541</td> <td>   -2.287</td>\n",
       "</tr>\n",
       "</table>\n",
       "<table class=\"simpletable\">\n",
       "<tr>\n",
       "  <th>Omnibus:</th>       <td>64.948</td> <th>  Durbin-Watson:     </th> <td>   2.010</td>\n",
       "</tr>\n",
       "<tr>\n",
       "  <th>Prob(Omnibus):</th> <td> 0.000</td> <th>  Jarque-Bera (JB):  </th> <td> 113.831</td>\n",
       "</tr>\n",
       "<tr>\n",
       "  <th>Skew:</th>          <td> 0.956</td> <th>  Prob(JB):          </th> <td>1.91e-25</td>\n",
       "</tr>\n",
       "<tr>\n",
       "  <th>Kurtosis:</th>      <td> 4.821</td> <th>  Cond. No.          </th> <td>    7.66</td>\n",
       "</tr>\n",
       "</table><br/><br/>Notes:<br/>[1] R² is computed without centering (uncentered) since the model does not contain a constant.<br/>[2] Standard Errors assume that the covariance matrix of the errors is correctly specified."
      ],
      "text/plain": [
       "<class 'statsmodels.iolib.summary.Summary'>\n",
       "\"\"\"\n",
       "                                 OLS Regression Results                                \n",
       "=======================================================================================\n",
       "Dep. Variable:                   medv   R-squared (uncentered):                   0.769\n",
       "Model:                            OLS   Adj. R-squared (uncentered):              0.763\n",
       "Method:                 Least Squares   F-statistic:                              126.9\n",
       "Date:                Mon, 19 Oct 2020   Prob (F-statistic):                   7.81e-115\n",
       "Time:                        16:18:26   Log-Likelihood:                         -1080.2\n",
       "No. Observations:                 392   AIC:                                      2180.\n",
       "Df Residuals:                     382   BIC:                                      2220.\n",
       "Df Model:                          10                                                  \n",
       "Covariance Type:            nonrobust                                                  \n",
       "==============================================================================\n",
       "                 coef    std err          t      P>|t|      [0.025      0.975]\n",
       "------------------------------------------------------------------------------\n",
       "x1            -0.9582      0.259     -3.706      0.000      -1.466      -0.450\n",
       "x2             0.8061      0.291      2.770      0.006       0.234       1.378\n",
       "x3            -1.6082      0.376     -4.274      0.000      -2.348      -0.868\n",
       "x4             2.2283      0.255      8.738      0.000       1.727       2.730\n",
       "x5            -2.3126      0.363     -6.372      0.000      -3.026      -1.599\n",
       "x6             2.4922      0.492      5.062      0.000       1.524       3.460\n",
       "x7            -2.6830      0.512     -5.242      0.000      -3.689      -1.677\n",
       "x8            -1.9346      0.247     -7.829      0.000      -2.420      -1.449\n",
       "x9             0.7576      0.232      3.272      0.001       0.302       1.213\n",
       "x10           -2.9143      0.319     -9.135      0.000      -3.541      -2.287\n",
       "==============================================================================\n",
       "Omnibus:                       64.948   Durbin-Watson:                   2.010\n",
       "Prob(Omnibus):                  0.000   Jarque-Bera (JB):              113.831\n",
       "Skew:                           0.956   Prob(JB):                     1.91e-25\n",
       "Kurtosis:                       4.821   Cond. No.                         7.66\n",
       "==============================================================================\n",
       "\n",
       "Notes:\n",
       "[1] R² is computed without centering (uncentered) since the model does not contain a constant.\n",
       "[2] Standard Errors assume that the covariance matrix of the errors is correctly specified.\n",
       "\"\"\""
      ]
     },
     "execution_count": 20,
     "metadata": {},
     "output_type": "execute_result"
    }
   ],
   "source": [
    "model = sm.OLS(y_train_l, X_train_l[:, features_keep])\n",
    "results = model.fit()\n",
    "results.summary()"
   ]
  },
  {
   "cell_type": "markdown",
   "metadata": {
    "papermill": {
     "duration": 0.048837,
     "end_time": "2020-10-19T13:12:50.471949",
     "exception": false,
     "start_time": "2020-10-19T13:12:50.423112",
     "status": "completed"
    },
    "tags": []
   },
   "source": [
    "<p>From the table above we see that the F-statistics has increased, while the $R^{2}$-score and its adjusted version are basically constant. We will then keep our reduced model.</p>"
   ]
  },
  {
   "cell_type": "markdown",
   "metadata": {
    "papermill": {
     "duration": 0.048855,
     "end_time": "2020-10-19T13:12:50.571168",
     "exception": false,
     "start_time": "2020-10-19T13:12:50.522313",
     "status": "completed"
    },
    "tags": []
   },
   "source": [
    "<h2>3. Model Evaluation</h2><br>\n",
    "<p>We can now evaluate the model built in the previous section on our test dataset, to probe its generalization error.<br>\n",
    "First, we need to apply the same scaling processing to the test dataset.</p>"
   ]
  },
  {
   "cell_type": "code",
   "execution_count": 21,
   "metadata": {
    "execution": {
     "iopub.execute_input": "2020-10-19T13:12:50.677870Z",
     "iopub.status.busy": "2020-10-19T13:12:50.676902Z",
     "iopub.status.idle": "2020-10-19T13:12:50.680289Z",
     "shell.execute_reply": "2020-10-19T13:12:50.679653Z"
    },
    "papermill": {
     "duration": 0.059878,
     "end_time": "2020-10-19T13:12:50.680412",
     "exception": false,
     "start_time": "2020-10-19T13:12:50.620534",
     "status": "completed"
    },
    "tags": []
   },
   "outputs": [],
   "source": [
    "##We drop the first entry in features_keep, which corresponds to the intercept\n",
    "columns_to_keep = [X_train.columns[i-1] for i in features_keep[1:]]\n",
    "X_train_l = X_train[columns_to_keep]\n",
    "X_test_l = X_test[columns_to_keep]"
   ]
  },
  {
   "cell_type": "code",
   "execution_count": 22,
   "metadata": {
    "execution": {
     "iopub.execute_input": "2020-10-19T13:12:50.781035Z",
     "iopub.status.busy": "2020-10-19T13:12:50.780208Z",
     "iopub.status.idle": "2020-10-19T13:12:50.783452Z",
     "shell.execute_reply": "2020-10-19T13:12:50.782785Z"
    },
    "papermill": {
     "duration": 0.055614,
     "end_time": "2020-10-19T13:12:50.783569",
     "exception": false,
     "start_time": "2020-10-19T13:12:50.727955",
     "status": "completed"
    },
    "tags": []
   },
   "outputs": [],
   "source": [
    "##We will use Linear Regression from Scikit-learn which natively fits into a pipeline for cross-validation\n",
    "\n",
    "regressor = LinearRegression()\n",
    "scaler = StandardScaler()\n",
    "model = Pipeline([(\"scaler\", scaler), \n",
    "                  (\"regressor\", regressor)])"
   ]
  },
  {
   "cell_type": "markdown",
   "metadata": {
    "papermill": {
     "duration": 0.04927,
     "end_time": "2020-10-19T13:12:50.881551",
     "exception": false,
     "start_time": "2020-10-19T13:12:50.832281",
     "status": "completed"
    },
    "tags": []
   },
   "source": [
    "<p>We can now compute the $R^{2}$-score using a 5-fold cross-validation.<br>\n",
    "To this aim, we will use a TransformedTargetRegressor class, which allows to sytematically transform the target values.</p>"
   ]
  },
  {
   "cell_type": "code",
   "execution_count": 23,
   "metadata": {
    "execution": {
     "iopub.execute_input": "2020-10-19T13:12:50.986797Z",
     "iopub.status.busy": "2020-10-19T13:12:50.985836Z",
     "iopub.status.idle": "2020-10-19T13:12:50.988899Z",
     "shell.execute_reply": "2020-10-19T13:12:50.988306Z"
    },
    "papermill": {
     "duration": 0.057588,
     "end_time": "2020-10-19T13:12:50.989007",
     "exception": false,
     "start_time": "2020-10-19T13:12:50.931419",
     "status": "completed"
    },
    "tags": []
   },
   "outputs": [],
   "source": [
    "transformer = StandardScaler(with_std= False)\n",
    "\n",
    "model_t = TransformedTargetRegressor(regressor = model, transformer = transformer )"
   ]
  },
  {
   "cell_type": "code",
   "execution_count": 24,
   "metadata": {
    "execution": {
     "iopub.execute_input": "2020-10-19T13:12:51.097719Z",
     "iopub.status.busy": "2020-10-19T13:12:51.096350Z",
     "iopub.status.idle": "2020-10-19T13:12:51.154005Z",
     "shell.execute_reply": "2020-10-19T13:12:51.153246Z"
    },
    "papermill": {
     "duration": 0.11764,
     "end_time": "2020-10-19T13:12:51.154204",
     "exception": false,
     "start_time": "2020-10-19T13:12:51.036564",
     "status": "completed"
    },
    "tags": []
   },
   "outputs": [
    {
     "name": "stdout",
     "output_type": "stream",
     "text": [
      "The average R^2-score is:  0.7325901360728662\n"
     ]
    }
   ],
   "source": [
    "cv = KFold(n_splits= 5, shuffle = True)\n",
    "score = cross_validate(model_t, X_train_l, y_train, cv = cv, scoring='r2')\n",
    "print(\"The average R^2-score is: \", np.average(score[\"test_score\"]))"
   ]
  },
  {
   "cell_type": "markdown",
   "metadata": {
    "papermill": {
     "duration": 0.048118,
     "end_time": "2020-10-19T13:12:51.253425",
     "exception": false,
     "start_time": "2020-10-19T13:12:51.205307",
     "status": "completed"
    },
    "tags": []
   },
   "source": [
    "<p>As a sanity check, we can fit a linear model using all the features, and compute the $R^{2}$-score using cross-validation: if everything goes according to plan, we should get a lower value/similar value than our reduced model </p> "
   ]
  },
  {
   "cell_type": "code",
   "execution_count": 25,
   "metadata": {
    "execution": {
     "iopub.execute_input": "2020-10-19T13:12:51.365777Z",
     "iopub.status.busy": "2020-10-19T13:12:51.364753Z",
     "iopub.status.idle": "2020-10-19T13:12:51.420948Z",
     "shell.execute_reply": "2020-10-19T13:12:51.420206Z"
    },
    "papermill": {
     "duration": 0.117512,
     "end_time": "2020-10-19T13:12:51.421092",
     "exception": false,
     "start_time": "2020-10-19T13:12:51.303580",
     "status": "completed"
    },
    "tags": []
   },
   "outputs": [
    {
     "name": "stdout",
     "output_type": "stream",
     "text": [
      "The average R^2-score is:  0.7310361563329005\n"
     ]
    }
   ],
   "source": [
    "cv = KFold(n_splits= 5, shuffle = True)\n",
    "score = cross_validate(model_t, X_train, y_train, cv = cv, scoring='r2')\n",
    "print(\"The average R^2-score is: \", np.average(score[\"test_score\"]))"
   ]
  },
  {
   "cell_type": "markdown",
   "metadata": {
    "papermill": {
     "duration": 0.049548,
     "end_time": "2020-10-19T13:12:51.524952",
     "exception": false,
     "start_time": "2020-10-19T13:12:51.475404",
     "status": "completed"
    },
    "tags": []
   },
   "source": [
    "<p>As expected, the reduced model performs similarly, but with less indipendent variables, hence it is preferable.</p>"
   ]
  },
  {
   "cell_type": "markdown",
   "metadata": {
    "papermill": {
     "duration": 0.050165,
     "end_time": "2020-10-19T13:12:51.624123",
     "exception": false,
     "start_time": "2020-10-19T13:12:51.573958",
     "status": "completed"
    },
    "tags": []
   },
   "source": [
    "<h2>4.Linear models with Interactions</h2>"
   ]
  },
  {
   "cell_type": "markdown",
   "metadata": {
    "papermill": {
     "duration": 0.048507,
     "end_time": "2020-10-19T13:12:51.721097",
     "exception": false,
     "start_time": "2020-10-19T13:12:51.672590",
     "status": "completed"
    },
    "tags": []
   },
   "source": [
    "<p>The model considered until now is linear (actually affine) in its variable.<br>\n",
    "    What happens if we introduce interactions to capture some possible non-linearities? Would this increase its performances?</p>"
   ]
  },
  {
   "cell_type": "code",
   "execution_count": 26,
   "metadata": {
    "execution": {
     "iopub.execute_input": "2020-10-19T13:12:51.831521Z",
     "iopub.status.busy": "2020-10-19T13:12:51.828255Z",
     "iopub.status.idle": "2020-10-19T13:12:52.574398Z",
     "shell.execute_reply": "2020-10-19T13:12:52.573663Z"
    },
    "papermill": {
     "duration": 0.805257,
     "end_time": "2020-10-19T13:12:52.574537",
     "exception": false,
     "start_time": "2020-10-19T13:12:51.769280",
     "status": "completed"
    },
    "tags": []
   },
   "outputs": [
    {
     "name": "stdout",
     "output_type": "stream",
     "text": [
      "The average R^2-score for the model with degree  2 interactions is:  0.770182291614585\n",
      "The average R^2-score for the model with degree  3 interactions is:  -16.198267566441338\n",
      "The average R^2-score for the model with degree  4 interactions is:  -239.1297467499939\n",
      "The average R^2-score for the model with degree  5 interactions is:  -369.8762137066767\n"
     ]
    }
   ],
   "source": [
    "##We can quickly introduce interactions, and check the averaged R^2-score for different degrees\n",
    "degrees = [2, 3, 4, 5]\n",
    "for deg in degrees:\n",
    "    interactions = PolynomialFeatures(degree = deg)\n",
    "    regressor = LinearRegression()\n",
    "    scaler = StandardScaler()\n",
    "    model = Pipeline([(\"scaler\", scaler), \n",
    "                      (\"interactions\", interactions),\n",
    "                      (\"regressor\", regressor)])\n",
    "    transformer = StandardScaler(with_std= False)\n",
    "    model_t = TransformedTargetRegressor(regressor = model, transformer = transformer )\n",
    "    cv = KFold(n_splits= 5, shuffle = True)\n",
    "    score = cross_validate(model_t, X_train_l, y_train, cv = cv, scoring='r2')\n",
    "    print(\"The average R^2-score for the model with degree \", deg, \"interactions is: \", np.average(score[\"test_score\"]))"
   ]
  },
  {
   "cell_type": "markdown",
   "metadata": {
    "papermill": {
     "duration": 0.071427,
     "end_time": "2020-10-19T13:12:52.703455",
     "exception": false,
     "start_time": "2020-10-19T13:12:52.632028",
     "status": "completed"
    },
    "tags": []
   },
   "source": [
    "<p>Notice that the introduction of degree 2 interactions improves the $R^{2}$-score considerably, while higher-order degrees fail miserably.</p>"
   ]
  },
  {
   "cell_type": "markdown",
   "metadata": {
    "papermill": {
     "duration": 0.049746,
     "end_time": "2020-10-19T13:12:52.829986",
     "exception": false,
     "start_time": "2020-10-19T13:12:52.780240",
     "status": "completed"
    },
    "tags": []
   },
   "source": [
    "<h2>5.Other Models: KNN and Random Forest</h2>"
   ]
  },
  {
   "cell_type": "markdown",
   "metadata": {
    "papermill": {
     "duration": 0.049696,
     "end_time": "2020-10-19T13:12:52.929355",
     "exception": false,
     "start_time": "2020-10-19T13:12:52.879659",
     "status": "completed"
    },
    "tags": []
   },
   "source": [
    "<p>How would other models compare to our linear model with interactions, using the same features?<br>\n",
    "We will briefly test two non-parametric regression models, namely KNN and Random Forest.<br><br>\n",
    "We begin with KNN, selecting different numbers of neighbours.</p>"
   ]
  },
  {
   "cell_type": "code",
   "execution_count": 27,
   "metadata": {
    "execution": {
     "iopub.execute_input": "2020-10-19T13:12:53.047217Z",
     "iopub.status.busy": "2020-10-19T13:12:53.046119Z",
     "iopub.status.idle": "2020-10-19T13:12:53.443362Z",
     "shell.execute_reply": "2020-10-19T13:12:53.442676Z"
    },
    "papermill": {
     "duration": 0.464014,
     "end_time": "2020-10-19T13:12:53.443482",
     "exception": false,
     "start_time": "2020-10-19T13:12:52.979468",
     "status": "completed"
    },
    "tags": []
   },
   "outputs": [
    {
     "name": "stdout",
     "output_type": "stream",
     "text": [
      "The average R^2-score for the model with  2 neighbors is:  0.7616470601798401\n",
      "The average R^2-score for the model with  3 neighbors is:  0.7922557799366492\n",
      "The average R^2-score for the model with  4 neighbors is:  0.7902534349428906\n",
      "The average R^2-score for the model with  5 neighbors is:  0.8004967810603143\n",
      "The average R^2-score for the model with  6 neighbors is:  0.7926108377007977\n",
      "The average R^2-score for the model with  8 neighbors is:  0.7890250285857944\n",
      "The average R^2-score for the model with  10 neighbors is:  0.774520179122677\n"
     ]
    }
   ],
   "source": [
    "neighbors = [2, 3, 4, 5, 6, 8, 10]\n",
    "for n in neighbors:\n",
    "    regressor = KNeighborsRegressor(n_neighbors = n)\n",
    "    scaler = StandardScaler()\n",
    "    model = Pipeline([(\"scaler\", scaler), \n",
    "                      (\"regressor\", regressor)])\n",
    "    transformer = StandardScaler(with_std= False)\n",
    "    model_t = TransformedTargetRegressor(regressor = model, transformer = transformer )\n",
    "    cv = KFold(n_splits= 5, shuffle = True)\n",
    "    score = cross_validate(model_t, X_train_l, y_train, cv = cv, scoring='r2')\n",
    "    print(\"The average R^2-score for the model with \", n, \"neighbors is: \", np.average(score[\"test_score\"]))"
   ]
  },
  {
   "cell_type": "markdown",
   "metadata": {
    "papermill": {
     "duration": 0.049963,
     "end_time": "2020-10-19T13:12:53.543913",
     "exception": false,
     "start_time": "2020-10-19T13:12:53.493950",
     "status": "completed"
    },
    "tags": []
   },
   "source": [
    "<p>We can see that a KNN regressor in this case performs a bit worse than our linear model with interactions.<br><br>\n",
    "We can continue to investigate the performances of a Random Forest Regressor.</p>"
   ]
  },
  {
   "cell_type": "code",
   "execution_count": 28,
   "metadata": {
    "execution": {
     "iopub.execute_input": "2020-10-19T13:12:53.660099Z",
     "iopub.status.busy": "2020-10-19T13:12:53.656726Z",
     "iopub.status.idle": "2020-10-19T13:13:04.241515Z",
     "shell.execute_reply": "2020-10-19T13:13:04.240954Z"
    },
    "papermill": {
     "duration": 10.646071,
     "end_time": "2020-10-19T13:13:04.241632",
     "exception": false,
     "start_time": "2020-10-19T13:12:53.595561",
     "status": "completed"
    },
    "tags": []
   },
   "outputs": [
    {
     "name": "stdout",
     "output_type": "stream",
     "text": [
      "The average R^2-score for the model with  10 estimators is:  0.8032666572694293\n",
      "The average R^2-score for the model with  20 estimators is:  0.8147458838526722\n",
      "The average R^2-score for the model with  30 estimators is:  0.8347328858644281\n",
      "The average R^2-score for the model with  50 estimators is:  0.8264193472073462\n",
      "The average R^2-score for the model with  100 estimators is:  0.8334688365541174\n",
      "The average R^2-score for the model with  150 estimators is:  0.8394478286242292\n",
      "The average R^2-score for the model with  200 estimators is:  0.8463954443768188\n",
      "The average R^2-score for the model with  300 estimators is:  0.8319495153786651\n"
     ]
    }
   ],
   "source": [
    "n_estimators = [10, 20, 30, 50, 100, 150, 200, 300]\n",
    "for n in n_estimators:\n",
    "    regressor = RandomForestRegressor(n_estimators = n)\n",
    "    scaler = StandardScaler()\n",
    "    model = Pipeline([(\"scaler\", scaler), \n",
    "                      (\"regressor\", regressor)])\n",
    "    transformer = StandardScaler(with_std= False)\n",
    "    model_t = TransformedTargetRegressor(regressor = model, transformer = transformer )\n",
    "    cv = KFold(n_splits= 5, shuffle = True)\n",
    "    score = cross_validate(model_t, X_train_l, y_train, cv = cv, scoring='r2')\n",
    "    print(\"The average R^2-score for the model with \", n, \"estimators is: \", np.average(score[\"test_score\"]))"
   ]
  },
  {
   "cell_type": "markdown",
   "metadata": {
    "papermill": {
     "duration": 0.053598,
     "end_time": "2020-10-19T13:13:04.350621",
     "exception": false,
     "start_time": "2020-10-19T13:13:04.297023",
     "status": "completed"
    },
    "tags": []
   },
   "source": [
    "<p>We can see that the Random Forest Regressor with 30-100 estimators has good performances, as measured by the $R^{2}$-score.<br><br>\n",
    "We can also consider a model using all the features.</p>"
   ]
  },
  {
   "cell_type": "code",
   "execution_count": 29,
   "metadata": {
    "execution": {
     "iopub.execute_input": "2020-10-19T13:13:04.473672Z",
     "iopub.status.busy": "2020-10-19T13:13:04.465876Z",
     "iopub.status.idle": "2020-10-19T13:13:05.219389Z",
     "shell.execute_reply": "2020-10-19T13:13:05.218710Z"
    },
    "papermill": {
     "duration": 0.814981,
     "end_time": "2020-10-19T13:13:05.219507",
     "exception": false,
     "start_time": "2020-10-19T13:13:04.404526",
     "status": "completed"
    },
    "tags": []
   },
   "outputs": [
    {
     "name": "stdout",
     "output_type": "stream",
     "text": [
      "The average R^2-score for the model with  50 estimators is:  0.8420793606193271\n"
     ]
    }
   ],
   "source": [
    "n_est = 50\n",
    "regressor = RandomForestRegressor(n_estimators = n_est)\n",
    "scaler = StandardScaler()\n",
    "model = Pipeline([(\"scaler\", scaler), \n",
    "                  (\"regressor\", regressor)])\n",
    "transformer = StandardScaler(with_std= False)\n",
    "model_t = TransformedTargetRegressor(regressor = model, transformer = transformer )\n",
    "cv = KFold(n_splits= 5, shuffle = True)\n",
    "score = cross_validate(model_t, X_train, y_train, cv = cv, scoring='r2')\n",
    "print(\"The average R^2-score for the model with \", n_est, \"estimators is: \", np.average(score[\"test_score\"]))"
   ]
  },
  {
   "cell_type": "markdown",
   "metadata": {
    "papermill": {
     "duration": 0.054086,
     "end_time": "2020-10-19T13:13:05.327406",
     "exception": false,
     "start_time": "2020-10-19T13:13:05.273320",
     "status": "completed"
    },
    "tags": []
   },
   "source": [
    "<p>As expected, the model performs slightly worse.</p>"
   ]
  },
  {
   "cell_type": "markdown",
   "metadata": {
    "papermill": {
     "duration": 0.054467,
     "end_time": "2020-10-19T13:13:05.438526",
     "exception": false,
     "start_time": "2020-10-19T13:13:05.384059",
     "status": "completed"
    },
    "tags": []
   },
   "source": [
    "<h2>6.Learning Curves</h2>"
   ]
  },
  {
   "cell_type": "markdown",
   "metadata": {
    "papermill": {
     "duration": 0.059261,
     "end_time": "2020-10-19T13:13:05.554745",
     "exception": false,
     "start_time": "2020-10-19T13:13:05.495484",
     "status": "completed"
    },
    "tags": []
   },
   "source": [
    "<p>To understand better the performance of our models, in particular the bias-variance trade-off, we can plot the learning curves, which show training and validation error corresponding to different training dataset sizes.</p> "
   ]
  },
  {
   "cell_type": "code",
   "execution_count": 30,
   "metadata": {
    "execution": {
     "iopub.execute_input": "2020-10-19T13:13:05.695973Z",
     "iopub.status.busy": "2020-10-19T13:13:05.694947Z",
     "iopub.status.idle": "2020-10-19T13:13:06.617340Z",
     "shell.execute_reply": "2020-10-19T13:13:06.616661Z"
    },
    "papermill": {
     "duration": 1.007992,
     "end_time": "2020-10-19T13:13:06.617459",
     "exception": false,
     "start_time": "2020-10-19T13:13:05.609467",
     "status": "completed"
    },
    "tags": []
   },
   "outputs": [
    {
     "data": {
      "text/plain": [
       "<matplotlib.axes._subplots.AxesSubplot at 0x2aa533b4b08>"
      ]
     },
     "execution_count": 30,
     "metadata": {},
     "output_type": "execute_result"
    },
    {
     "data": {
      "image/png": "[encoded data removed]",
      "text/plain": [
       "<Figure size 720x720 with 1 Axes>"
      ]
     },
     "metadata": {
      "needs_background": "light"
     },
     "output_type": "display_data"
    }
   ],
   "source": [
    "regressor = LinearRegression()\n",
    "interactions = PolynomialFeatures(degree = 2)\n",
    "scaler = StandardScaler()\n",
    "model = Pipeline([(\"scaler\", scaler), \n",
    "                  (\"interactions\", interactions),\n",
    "                  (\"regressor\", regressor)])\n",
    "transformer = StandardScaler(with_std= False)\n",
    "model_t = TransformedTargetRegressor(regressor = model, transformer = transformer )\n",
    "cv = KFold(n_splits= 5, shuffle = True)\n",
    "\n",
    "n_sizes, train_scores, test_scores = learning_curve(model_t, X_train_l, y_train, train_sizes=np.linspace(0.1, 1.0, 10), cv = cv, scoring= \"neg_mean_squared_error\")\n",
    "\n",
    "plt.figure(figsize = (10, 10))\n",
    "sns.lineplot(n_sizes, np.average(train_scores, axis = 1) * (-1), marker= 'o')\n",
    "sns.lineplot(n_sizes, np.average(test_scores, axis = 1) * (-1), marker = 'o')"
   ]
  },
  {
   "cell_type": "markdown",
   "metadata": {
    "papermill": {
     "duration": 0.055385,
     "end_time": "2020-10-19T13:13:06.731105",
     "exception": false,
     "start_time": "2020-10-19T13:13:06.675720",
     "status": "completed"
    },
    "tags": []
   },
   "source": [
    "<p>From the learning curves above, it seems  that Linear Regression with interactions is performing really well. Wait, notice the scale!\n",
    "Indeed, the test error at the beginning is really high, giving the impression of almost no variance, and very low bias.<br>\n",
    "We can plot the curves again, focussing on the last points.</p>"
   ]
  },
  {
   "cell_type": "code",
   "execution_count": 31,
   "metadata": {
    "execution": {
     "iopub.execute_input": "2020-10-19T13:13:06.863630Z",
     "iopub.status.busy": "2020-10-19T13:13:06.857596Z",
     "iopub.status.idle": "2020-10-19T13:13:07.033740Z",
     "shell.execute_reply": "2020-10-19T13:13:07.034222Z"
    },
    "papermill": {
     "duration": 0.248787,
     "end_time": "2020-10-19T13:13:07.034381",
     "exception": false,
     "start_time": "2020-10-19T13:13:06.785594",
     "status": "completed"
    },
    "tags": []
   },
   "outputs": [
    {
     "data": {
      "text/plain": [
       "<matplotlib.axes._subplots.AxesSubplot at 0x2aa4e731c88>"
      ]
     },
     "execution_count": 31,
     "metadata": {},
     "output_type": "execute_result"
    },
    {
     "data": {
      "image/png": "[encoded data removed]",
      "text/plain": [
       "<Figure size 720x720 with 1 Axes>"
      ]
     },
     "metadata": {
      "needs_background": "light"
     },
     "output_type": "display_data"
    }
   ],
   "source": [
    "plt.figure(figsize = (10, 10))\n",
    "sns.lineplot(n_sizes[6:], np.average(train_scores, axis = 1)[6:] * (-1), marker= 'o')\n",
    "sns.lineplot(n_sizes[6:], np.average(test_scores, axis = 1)[6:] * (-1), marker = 'o')"
   ]
  },
  {
   "cell_type": "markdown",
   "metadata": {
    "papermill": {
     "duration": 0.057926,
     "end_time": "2020-10-19T13:13:07.151154",
     "exception": false,
     "start_time": "2020-10-19T13:13:07.093228",
     "status": "completed"
    },
    "tags": []
   },
   "source": [
    "<p>More reasonably, the plot above shows that the validation error gets close to the training error, still preserving an expected gap.<br><br>\n",
    "We can plot learning curves for the KNN and Random Forest model as well.</p>"
   ]
  },
  {
   "cell_type": "code",
   "execution_count": 32,
   "metadata": {
    "execution": {
     "iopub.execute_input": "2020-10-19T13:13:07.279042Z",
     "iopub.status.busy": "2020-10-19T13:13:07.271898Z",
     "iopub.status.idle": "2020-10-19T13:13:08.239790Z",
     "shell.execute_reply": "2020-10-19T13:13:08.239272Z"
    },
    "papermill": {
     "duration": 1.032278,
     "end_time": "2020-10-19T13:13:08.239908",
     "exception": false,
     "start_time": "2020-10-19T13:13:07.207630",
     "status": "completed"
    },
    "tags": []
   },
   "outputs": [
    {
     "data": {
      "text/plain": [
       "<matplotlib.axes._subplots.AxesSubplot at 0x2aa3967b5c8>"
      ]
     },
     "execution_count": 32,
     "metadata": {},
     "output_type": "execute_result"
    },
    {
     "data": {
      "image/png": "[encoded data removed]",
      "text/plain": [
       "<Figure size 720x720 with 1 Axes>"
      ]
     },
     "metadata": {
      "needs_background": "light"
     },
     "output_type": "display_data"
    }
   ],
   "source": [
    "regressor = KNeighborsRegressor(n_neighbors = 4)\n",
    "scaler = StandardScaler()\n",
    "model = Pipeline([(\"scaler\", scaler), \n",
    "                  (\"regressor\", regressor)])\n",
    "transformer = StandardScaler(with_std= False)\n",
    "model_t = TransformedTargetRegressor(regressor = model, transformer = transformer )\n",
    "cv = KFold(n_splits= 5, shuffle = True)\n",
    "\n",
    "n_sizes, train_scores, test_scores = learning_curve(model_t, X_train_l, y_train, train_sizes=np.linspace(0.1, 1.0, 10), cv = cv, scoring= \"neg_mean_squared_error\")\n",
    "\n",
    "plt.figure(figsize = (10, 10))\n",
    "sns.lineplot(n_sizes, np.average(train_scores, axis = 1) * (-1), marker= 'o')\n",
    "sns.lineplot(n_sizes, np.average(test_scores, axis = 1) * (-1), marker = 'o')"
   ]
  },
  {
   "cell_type": "code",
   "execution_count": 33,
   "metadata": {
    "execution": {
     "iopub.execute_input": "2020-10-19T13:13:08.386708Z",
     "iopub.status.busy": "2020-10-19T13:13:08.381547Z",
     "iopub.status.idle": "2020-10-19T13:13:14.300557Z",
     "shell.execute_reply": "2020-10-19T13:13:14.300029Z"
    },
    "papermill": {
     "duration": 6.002361,
     "end_time": "2020-10-19T13:13:14.300680",
     "exception": false,
     "start_time": "2020-10-19T13:13:08.298319",
     "status": "completed"
    },
    "tags": []
   },
   "outputs": [
    {
     "data": {
      "text/plain": [
       "<matplotlib.axes._subplots.AxesSubplot at 0x2aa4e0bd748>"
      ]
     },
     "execution_count": 33,
     "metadata": {},
     "output_type": "execute_result"
    },
    {
     "data": {
      "image/png": "[encoded data removed]",
      "text/plain": [
       "<Figure size 720x720 with 1 Axes>"
      ]
     },
     "metadata": {
      "needs_background": "light"
     },
     "output_type": "display_data"
    }
   ],
   "source": [
    "regressor = RandomForestRegressor(n_estimators = 50, max_depth = None)\n",
    "scaler = StandardScaler()\n",
    "model = Pipeline([(\"scaler\", scaler), \n",
    "                  (\"regressor\", regressor)])\n",
    "transformer = StandardScaler(with_std= False)\n",
    "model_t = TransformedTargetRegressor(regressor = model, transformer = transformer )\n",
    "cv = KFold(n_splits= 5, shuffle = True)\n",
    "\n",
    "n_sizes, train_scores, test_scores = learning_curve(model_t, X_train_l, y_train, train_sizes=np.linspace(0.1, 1.0, 10), cv = cv, scoring= \"neg_mean_squared_error\")\n",
    "\n",
    "plt.figure(figsize = (10, 10))\n",
    "sns.lineplot(n_sizes, np.average(train_scores, axis = 1) * (-1), marker= 'o')\n",
    "sns.lineplot(n_sizes, np.average(test_scores, axis = 1) * (-1), marker = 'o')"
   ]
  },
  {
   "cell_type": "markdown",
   "metadata": {
    "papermill": {
     "duration": 0.057566,
     "end_time": "2020-10-19T13:13:14.419580",
     "exception": false,
     "start_time": "2020-10-19T13:13:14.362014",
     "status": "completed"
    },
    "tags": []
   },
   "source": [
    "<p>We can see that the model based on KNN has lower variance, but higher bias.<br>\n",
    "   On the other hand, the model based on Random Forest has higher variance, but lower bias.<br><br>\n",
    "We can try to reduce the variance for the Random Forest model by fixing the maximum depth of the leaf of each decision tree.\n",
    "</p>"
   ]
  },
  {
   "cell_type": "code",
   "execution_count": 34,
   "metadata": {
    "execution": {
     "iopub.execute_input": "2020-10-19T13:13:14.559271Z",
     "iopub.status.busy": "2020-10-19T13:13:14.551400Z",
     "iopub.status.idle": "2020-10-19T13:13:19.402219Z",
     "shell.execute_reply": "2020-10-19T13:13:19.401547Z"
    },
    "papermill": {
     "duration": 4.92513,
     "end_time": "2020-10-19T13:13:19.402337",
     "exception": false,
     "start_time": "2020-10-19T13:13:14.477207",
     "status": "completed"
    },
    "tags": []
   },
   "outputs": [
    {
     "data": {
      "text/plain": [
       "<matplotlib.axes._subplots.AxesSubplot at 0x2aa533aee48>"
      ]
     },
     "execution_count": 34,
     "metadata": {},
     "output_type": "execute_result"
    },
    {
     "data": {
      "image/png": "[encoded data removed]",
      "text/plain": [
       "<Figure size 720x720 with 1 Axes>"
      ]
     },
     "metadata": {
      "needs_background": "light"
     },
     "output_type": "display_data"
    }
   ],
   "source": [
    "regressor = RandomForestRegressor(n_estimators = 50, max_depth = 4)\n",
    "scaler = StandardScaler()\n",
    "model = Pipeline([(\"scaler\", scaler), \n",
    "                  (\"regressor\", regressor)])\n",
    "transformer = StandardScaler(with_std= False)\n",
    "model_t = TransformedTargetRegressor(regressor = model, transformer = transformer )\n",
    "cv = KFold(n_splits= 5, shuffle = True)\n",
    "\n",
    "n_sizes, train_scores, test_scores = learning_curve(model_t, X_train_l, y_train, train_sizes=np.linspace(0.1, 1.0, 10), cv = cv, scoring= \"neg_mean_squared_error\")\n",
    "\n",
    "plt.figure(figsize = (10, 10))\n",
    "sns.lineplot(n_sizes, np.average(train_scores, axis = 1) * (-1), marker= 'o')\n",
    "sns.lineplot(n_sizes, np.average(test_scores, axis = 1) * (-1), marker = 'o')"
   ]
  },
  {
   "cell_type": "markdown",
   "metadata": {
    "papermill": {
     "duration": 0.059415,
     "end_time": "2020-10-19T13:13:19.521629",
     "exception": false,
     "start_time": "2020-10-19T13:13:19.462214",
     "status": "completed"
    },
    "tags": []
   },
   "source": [
    "<p>We can see that Linear Regression with interactions and Random Forest have similar performances, and similar training/validation error trends. We will prefer in this case Linear Regression for its simplicity.</p>"
   ]
  },
  {
   "cell_type": "markdown",
   "metadata": {
    "papermill": {
     "duration": 0.060514,
     "end_time": "2020-10-19T13:13:19.641926",
     "exception": false,
     "start_time": "2020-10-19T13:13:19.581412",
     "status": "completed"
    },
    "tags": []
   },
   "source": [
    "<h2>7.Final evaluation</h2>\n",
    "<p>We can finally evaluate our models on the test dataset, to provide a final assessment of their performances.</p>"
   ]
  },
  {
   "cell_type": "code",
   "execution_count": 35,
   "metadata": {
    "execution": {
     "iopub.execute_input": "2020-10-19T13:13:19.774669Z",
     "iopub.status.busy": "2020-10-19T13:13:19.771024Z",
     "iopub.status.idle": "2020-10-19T13:13:19.789448Z",
     "shell.execute_reply": "2020-10-19T13:13:19.788757Z"
    },
    "papermill": {
     "duration": 0.087151,
     "end_time": "2020-10-19T13:13:19.789571",
     "exception": false,
     "start_time": "2020-10-19T13:13:19.702420",
     "status": "completed"
    },
    "tags": []
   },
   "outputs": [
    {
     "name": "stdout",
     "output_type": "stream",
     "text": [
      "The mean squared error evaluated on the test dataset is:  8.355183607269126\n",
      "The R^{2} evaluated on the test dataset is:  0.8565455241365225\n"
     ]
    }
   ],
   "source": [
    "regressor = LinearRegression()\n",
    "interactions = PolynomialFeatures(degree = 2)\n",
    "scaler = StandardScaler()\n",
    "model = Pipeline([(\"scaler\", scaler), \n",
    "                  (\"interactions\", interactions),\n",
    "                  (\"regressor\", regressor)])\n",
    "model_t = TransformedTargetRegressor(regressor = model, transformer = transformer )\n",
    "model_t.fit(X_train_l, y_train)\n",
    "y_pred = model_t.predict(X_test_l)\n",
    "score_mean = mean_squared_error(y_test, y_pred)\n",
    "score_r2 = r2_score(y_test, y_pred)\n",
    "\n",
    "print(\"The mean squared error evaluated on the test dataset is: \", score_mean)\n",
    "print(\"The R^{2} evaluated on the test dataset is: \", score_r2)"
   ]
  },
  {
   "cell_type": "code",
   "execution_count": 36,
   "metadata": {
    "execution": {
     "iopub.execute_input": "2020-10-19T13:13:19.935581Z",
     "iopub.status.busy": "2020-10-19T13:13:19.921438Z",
     "iopub.status.idle": "2020-10-19T13:13:20.066434Z",
     "shell.execute_reply": "2020-10-19T13:13:20.065405Z"
    },
    "papermill": {
     "duration": 0.215808,
     "end_time": "2020-10-19T13:13:20.066622",
     "exception": false,
     "start_time": "2020-10-19T13:13:19.850814",
     "status": "completed"
    },
    "tags": []
   },
   "outputs": [
    {
     "name": "stdout",
     "output_type": "stream",
     "text": [
      "The mean squared error evaluated on the test dataset is:  7.638842385812257\n",
      "The R^{2} evaluated on the test dataset is:  0.8688447576774939\n"
     ]
    }
   ],
   "source": [
    "regressor = RandomForestRegressor(n_estimators = 50, max_depth = 4)\n",
    "\n",
    "scaler = StandardScaler()\n",
    "model = Pipeline([(\"scaler\", scaler), \n",
    "                \n",
    "                  (\"regressor\", regressor)])\n",
    "model_t = TransformedTargetRegressor(regressor = model, transformer = transformer )\n",
    "model_t.fit(X_train, y_train)\n",
    "y_pred = model_t.predict(X_test)\n",
    "score_mean = mean_squared_error(y_test, y_pred)\n",
    "score_r2 = r2_score(y_test, y_pred)\n",
    "\n",
    "print(\"The mean squared error evaluated on the test dataset is: \", score_mean)\n",
    "print(\"The R^{2} evaluated on the test dataset is: \", score_r2)"
   ]
  },
  {
   "cell_type": "code",
   "execution_count": null,
   "metadata": {
    "papermill": {
     "duration": 0.060953,
     "end_time": "2020-10-19T13:13:20.191242",
     "exception": false,
     "start_time": "2020-10-19T13:13:20.130289",
     "status": "completed"
    },
    "tags": []
   },
   "outputs": [],
   "source": []
  },
  {
   "cell_type": "code",
   "execution_count": null,
   "metadata": {
    "papermill": {
     "duration": 0.060144,
     "end_time": "2020-10-19T13:13:20.311763",
     "exception": false,
     "start_time": "2020-10-19T13:13:20.251619",
     "status": "completed"
    },
    "tags": []
   },
   "outputs": [],
   "source": []
  },
  {
   "cell_type": "code",
   "execution_count": null,
   "metadata": {
    "papermill": {
     "duration": 0.059973,
     "end_time": "2020-10-19T13:13:20.433103",
     "exception": false,
     "start_time": "2020-10-19T13:13:20.373130",
     "status": "completed"
    },
    "tags": []
   },
   "outputs": [],
   "source": []
  }
 ],
 "metadata": {
  "kernelspec": {
   "display_name": "Python 3",
   "language": "python",
   "name": "python3"
  },
  "language_info": {
   "codemirror_mode": {
    "name": "ipython",
    "version": 3
   },
   "file_extension": ".py",
   "mimetype": "text/x-python",
   "name": "python",
   "nbconvert_exporter": "python",
   "pygments_lexer": "ipython3",
   "version": "3.7.6"
  },
  "papermill": {
   "duration": 42.491123,
   "end_time": "2020-10-19T13:13:20.601175",
   "environment_variables": {},
   "exception": null,
   "input_path": "__notebook__.ipynb",
   "output_path": "__notebook__.ipynb",
   "parameters": {},
   "start_time": "2020-10-19T13:12:38.110052",
   "version": "2.1.0"
  }
 },
 "nbformat": 4,
 "nbformat_minor": 4
}
